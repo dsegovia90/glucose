{
 "cells": [
  {
   "cell_type": "code",
   "execution_count": null,
   "metadata": {},
   "outputs": [],
   "source": [
    "from json import load, dumps\n",
    "from xgboost import XGBRegressor\n",
    "from sklearn.model_selection import train_test_split\n",
    "from sklearn.multioutput import MultiOutputRegressor"
   ]
  },
  {
   "cell_type": "code",
   "execution_count": null,
   "metadata": {},
   "outputs": [],
   "source": [
    "f = open('raw_data.json')\n",
    "data = load(f)\n",
    "print(f\"data size: {len(data)}\")"
   ]
  },
  {
   "cell_type": "code",
   "execution_count": null,
   "metadata": {},
   "outputs": [],
   "source": [
    "print(\"First data point: \")\n",
    "print(dumps(data[0], indent=4, sort_keys=True))"
   ]
  },
  {
   "cell_type": "code",
   "execution_count": null,
   "metadata": {},
   "outputs": [],
   "source": [
    "feature_size = 48\n",
    "target_size = 12\n",
    "X = []\n",
    "Y = []\n",
    "for i in range(0, len(data) - feature_size - target_size):\n",
    "    x = []\n",
    "    features = data[i:i + feature_size]\n",
    "    for feature in features:\n",
    "        x.append(feature.get('sgv'))\n",
    "    X.append(x)\n",
    "    y = []\n",
    "    targets = data[i + feature_size:i + feature_size + target_size]\n",
    "    for target in targets:\n",
    "        y.append(target.get('sgv'))\n",
    "    Y.append(y)"
   ]
  },
  {
   "cell_type": "code",
   "execution_count": null,
   "metadata": {},
   "outputs": [],
   "source": [
    "print(\"Size of X and Y:\")\n",
    "print(len(X), len(Y))\n",
    "\n",
    "print(\"x and y of first\")\n",
    "print(X[0], Y[0])\n",
    "\n",
    "print(\"x and y of last\")\n",
    "print(X[-1], Y[-1])"
   ]
  },
  {
   "cell_type": "code",
   "execution_count": null,
   "metadata": {},
   "outputs": [],
   "source": [
    "# Split data\n",
    "x, x_test, y, y_test = train_test_split(X, Y, test_size=0.2, train_size=0.8)\n",
    "X_train, X_cv, Y_train, Y_cv = train_test_split(x, y, test_size=0.25, train_size=0.75)"
   ]
  },
  {
   "cell_type": "code",
   "execution_count": null,
   "metadata": {},
   "outputs": [],
   "source": [
    "estimator = XGBRegressor(objective=\"reg:squarederror\", n_estimators=1000)\n",
    "model = MultiOutputRegressor(estimator=estimator)\n",
    "model.fit(X_train, Y_train)"
   ]
  },
  {
   "cell_type": "code",
   "execution_count": null,
   "metadata": {},
   "outputs": [],
   "source": [
    "predictions = model.predict(X_cv)\n",
    "for idx, prediction in enumerate(predictions):\n",
    "    print(f\"[{idx}]: prediction = {prediction}, real = {Y_cv[idx]}, difference = {prediction - Y_cv[idx]}\")\n"
   ]
  },
  {
   "cell_type": "code",
   "execution_count": null,
   "metadata": {},
   "outputs": [],
   "source": [
    "# Training Score\n",
    "training_score = model.score(X_train, Y_train)\n",
    "print(f\"Training score: \", training_score)\n",
    "\n",
    "cv_score = model.score(X_cv, Y_cv)\n",
    "print(f\"Cross validation score: {cv_score}\")"
   ]
  }
 ],
 "metadata": {
  "kernelspec": {
   "display_name": "Python 3.10.4 ('glucose')",
   "language": "python",
   "name": "python3"
  },
  "language_info": {
   "codemirror_mode": {
    "name": "ipython",
    "version": 3
   },
   "file_extension": ".py",
   "mimetype": "text/x-python",
   "name": "python",
   "nbconvert_exporter": "python",
   "pygments_lexer": "ipython3",
   "version": "3.10.4"
  },
  "orig_nbformat": 4,
  "vscode": {
   "interpreter": {
    "hash": "1a380501f62e76f65bfc7c52e58a721c8e35be06f66fabfc857deaea2e31d329"
   }
  }
 },
 "nbformat": 4,
 "nbformat_minor": 2
}
